{
 "cells": [
  {
   "cell_type": "code",
   "execution_count": 1,
   "metadata": {},
   "outputs": [
    {
     "name": "stderr",
     "output_type": "stream",
     "text": [
      "The mpl_toolkits.axes_grid module was deprecated in version 2.1. Use mpl_toolkits.axes_grid1 and mpl_toolkits.axisartist provies the same functionality instead.\n"
     ]
    }
   ],
   "source": [
    "import matplotlib.pyplot as plt\n",
    "import numpy as np\n",
    "\n",
    "import sys, os, time\n",
    "# add the parent directory to the paths\n",
    "sys.path.insert(1, os.path.join(sys.path[0], '..'))\n",
    "import UltraCube as UCube"
   ]
  },
  {
   "cell_type": "markdown",
   "metadata": {},
   "source": [
    "Make an small test region from NGC 1333"
   ]
  },
  {
   "cell_type": "code",
   "execution_count": 2,
   "metadata": {},
   "outputs": [],
   "source": [
    "from spectral_cube import SpectralCube\n",
    "if False:\n",
    "    fpath = \"/Users/mcychen/Documents/Data/GAS_NH3/DR1_rebase3/NGC1333/NGC1333_NH3_11_DR1_rebase3_trim.fits\"\n",
    "    ngc1333 = SpectralCube.read(fpath)\n",
    "    nsmall = ngc1333[:, 210:221, 80:91]\n",
    "    wpath = \"/Users/mcychen/Desktop/UCube_Test/ngc1333_test_cube.fits\"\n",
    "    nsmall.write(wpath, overwrite=True)\n",
    "    plt.imshow(np.nansum(nsmall._data,axis=0), origin='lower')"
   ]
  },
  {
   "cell_type": "markdown",
   "metadata": {},
   "source": [
    "Make a small test region from Orion A"
   ]
  },
  {
   "cell_type": "code",
   "execution_count": 3,
   "metadata": {},
   "outputs": [],
   "source": [
    "fpath = \"/Users/mcychen/Documents/Data/GAS_NH3/DR1_rebase3/OrionA_N/OrionA_N_NH3_11_DR1_rebase3_trim.fits\"\n",
    "wpath = \"/Users/mcychen/Desktop/UCube_Test/orionA_test_cube.fits\"\n",
    "if False:\n",
    "    orion = SpectralCube.read(fpath)\n",
    "    osmall = orion[:, 236:270, 123:145]\n",
    "    osmall.write(wpath, overwrite=True)\n",
    "    plt.imshow(np.nansum(osmall._data,axis=0), origin='lower')"
   ]
  },
  {
   "cell_type": "markdown",
   "metadata": {},
   "source": [
    "Load the cube"
   ]
  },
  {
   "cell_type": "code",
   "execution_count": 4,
   "metadata": {},
   "outputs": [
    {
     "data": {
      "text/plain": [
       "<matplotlib.image.AxesImage at 0x1c1bb4ccd0>"
      ]
     },
     "execution_count": 4,
     "metadata": {},
     "output_type": "execute_result"
    },
    {
     "data": {
      "image/png": "[encoded data removed]",
      "text/plain": [
       "<Figure size 432x288 with 1 Axes>"
      ]
     },
     "metadata": {},
     "output_type": "display_data"
    }
   ],
   "source": [
    "reload(UCube)\n",
    "orion = UCube.UltraCube(wpath)\n",
    "plt.imshow(np.nansum(orion.cube._data,axis=0), origin='lower')"
   ]
  },
  {
   "cell_type": "markdown",
   "metadata": {},
   "source": [
    "Convolve the cube"
   ]
  },
  {
   "cell_type": "code",
   "execution_count": 5,
   "metadata": {},
   "outputs": [],
   "source": [
    "dirName = \"/Users/mcychen/Desktop/UCube_Test/\"\n",
    "cube_cnv_name = \"{}/orionA_test_cube_conv2Xbeam.fits\".format(dirName)\n",
    "if False:\n",
    "    dirName = \"/Users/mcychen/Desktop/UCube_Test/\"\n",
    "    #orion.fit_cube(ncomp=[1,2], mask_function=None, snr_min=18)\n",
    "    cube_cnv_name = \"{}/orionA_test_cube_conv2Xbeam.fits\".format(dirName)\n",
    "    #ucube.convolve_sky_byfactor(b59.cube, 2, cube_cnv_name, edgetrim_width=None)\n",
    "    orion.convolve_cube(factor=2, savename=cube_cnv_name, edgetrim_width=None)"
   ]
  },
  {
   "cell_type": "markdown",
   "metadata": {},
   "source": [
    "Load, fit, and save the convolved cube"
   ]
  },
  {
   "cell_type": "code",
   "execution_count": 6,
   "metadata": {},
   "outputs": [],
   "source": [
    "orion_cnv = UCube.UltraCube(cube_cnv_name)\n",
    "paraDir = '{}/paramaps'.format(dirName)\n",
    "if False:\n",
    "    orion_cnv.fit_cube(ncomp=[1,2], snr_min=3)\n",
    "    UCube.save_model_fit(orion_cnv.pcubes['1'], '{}/orionA_test_para_1vcomp_conv2Xbeam.fits'.format(paraDir), 1)\n",
    "    UCube.save_model_fit(orion_cnv.pcubes['2'], '{}/orionA_test_para_2vcomp_conv2Xbeam.fits'.format(paraDir), 2)"
   ]
  },
  {
   "cell_type": "markdown",
   "metadata": {},
   "source": [
    "Load the fitted model"
   ]
  },
  {
   "cell_type": "code",
   "execution_count": 7,
   "metadata": {},
   "outputs": [
    {
     "name": "stdout",
     "output_type": "stream",
     "text": [
      "INFO: Left region selection unchanged.  xminpix, xmaxpix: 0,762 [pyspeckit.spectrum.interactive]\n",
      "INFO: Left region selection unchanged.  xminpix, xmaxpix: 0,762 [pyspeckit.spectrum.interactive]\n"
     ]
    }
   ],
   "source": [
    "orion_cnv.load_model_fit('{}/orionA_test_para_1vcomp_conv2Xbeam.fits'.format(paraDir), 1)\n",
    "orion_cnv.load_model_fit('{}/orionA_test_para_2vcomp_conv2Xbeam.fits'.format(paraDir), 2)\n",
    "mod1 = orion_cnv.pcubes['1'].get_modelcube()\n",
    "mod2 = orion_cnv.pcubes['2'].get_modelcube()"
   ]
  },
  {
   "cell_type": "code",
   "execution_count": 8,
   "metadata": {},
   "outputs": [
    {
     "data": {
      "text/plain": [
       "<matplotlib.image.AxesImage at 0x1c1c374290>"
      ]
     },
     "execution_count": 8,
     "metadata": {},
     "output_type": "execute_result"
    },
    {
     "data": {
      "image/png": "[encoded data removed]",
      "text/plain": [
       "<Figure size 432x288 with 1 Axes>"
      ]
     },
     "metadata": {},
     "output_type": "display_data"
    }
   ],
   "source": [
    "plt.imshow(np.nansum(mod2,axis=0), origin = 'lower')"
   ]
  },
  {
   "cell_type": "code",
   "execution_count": 9,
   "metadata": {},
   "outputs": [
    {
     "data": {
      "text/plain": [
       "<matplotlib.image.AxesImage at 0x1c1c92cb50>"
      ]
     },
     "execution_count": 9,
     "metadata": {},
     "output_type": "execute_result"
    },
    {
     "data": {
      "image/png": "[encoded data removed]",
      "text/plain": [
       "<Figure size 432x288 with 1 Axes>"
      ]
     },
     "metadata": {},
     "output_type": "display_data"
    }
   ],
   "source": [
    "lnk21 = orion_cnv.get_AICc_likelihood(2, 1)\n",
    "plt.imshow(lnk21, origin=\"lower\", vmin=0, vmax=1000)"
   ]
  },
  {
   "cell_type": "code",
   "execution_count": 10,
   "metadata": {},
   "outputs": [],
   "source": [
    "p2 = orion_cnv.pcubes['2']"
   ]
  },
  {
   "cell_type": "code",
   "execution_count": 11,
   "metadata": {},
   "outputs": [],
   "source": [
    "def show_para(para, figsize=(11, 8)):\n",
    "    npanel = para.shape[0]\n",
    "    fig = plt.figure(figsize=figsize)\n",
    "    \n",
    "    for i, p in enumerate(para):\n",
    "        ax = fig.add_subplot(1, npanel, i+1)\n",
    "        vmin = np.percentile(p[np.isfinite(p)], 1)\n",
    "        vmax = np.percentile(p[np.isfinite(p)], 99) \n",
    "        ax.imshow(p, origin='lower', vmin=vmin, vmax=vmax)"
   ]
  },
  {
   "cell_type": "markdown",
   "metadata": {},
   "source": [
    "Exame the interpolation"
   ]
  },
  {
   "cell_type": "code",
   "execution_count": 12,
   "metadata": {},
   "outputs": [
    {
     "name": "stderr",
     "output_type": "stream",
     "text": [
      "invalid value encountered in greater\n",
      "invalid value encountered in less\n",
      "invalid value encountered in greater\n",
      "invalid value encountered in less\n",
      "invalid value encountered in greater\n"
     ]
    },
    {
     "data": {
      "image/png": "[encoded data removed]",
      "text/plain": [
       "<Figure size 792x576 with 8 Axes>"
      ]
     },
     "metadata": {},
     "output_type": "display_data"
    }
   ],
   "source": [
    "import guess_refine as gf\n",
    "reload(gf)\n",
    "data_cnv = np.append(p2.parcube, p2.errcube, axis=0)\n",
    "guesses_final = gf.guess_from_cnvpara(data_cnv, orion_cnv.cube.header, orion.cube.header)\n",
    "show_para(guesses_final)"
   ]
  },
  {
   "cell_type": "markdown",
   "metadata": {},
   "source": [
    "Compare that with the raw fitted results"
   ]
  },
  {
   "cell_type": "code",
   "execution_count": 13,
   "metadata": {},
   "outputs": [
    {
     "data": {
      "image/png": "[encoded data removed]",
      "text/plain": [
       "<Figure size 792x576 with 8 Axes>"
      ]
     },
     "metadata": {},
     "output_type": "display_data"
    }
   ],
   "source": [
    "show_para(p2.parcube)"
   ]
  },
  {
   "cell_type": "markdown",
   "metadata": {},
   "source": [
    "fit full resolution using convolved fit results"
   ]
  },
  {
   "cell_type": "code",
   "execution_count": 14,
   "metadata": {},
   "outputs": [],
   "source": [
    "# elapsed time 91.6 seconds, 741 pixels\n",
    "if False:\n",
    "    p1 = orion_cnv.pcubes['1']\n",
    "    data_cnv = np.append(p1.parcube, p1.errcube, axis=0)\n",
    "    guesses = gf.guess_from_cnvpara(data_cnv, orion_cnv.cube.header, orion.cube.header)\n",
    "    orion.fit_cube(ncomp=[1], snr_min=3, guesses = guesses)\n",
    "    \n"
   ]
  },
  {
   "cell_type": "code",
   "execution_count": 15,
   "metadata": {},
   "outputs": [],
   "source": [
    "# Elapsed time was 440.1 seconds\n",
    "if False:\n",
    "    p2 = orion_cnv.pcubes['2']\n",
    "    data_cnv = np.append(p2.parcube, p2.errcube, axis=0)\n",
    "    guesses = gf.guess_from_cnvpara(data_cnv, orion_cnv.cube.header, orion.cube.header)\n",
    "    orion.fit_cube(ncomp=[2], snr_min=3, guesses = guesses)"
   ]
  },
  {
   "cell_type": "code",
   "execution_count": 16,
   "metadata": {},
   "outputs": [],
   "source": [
    "paraDir = '{}/paramaps'.format(dirName)\n",
    "if False:\n",
    "    UCube.save_model_fit(orion.pcubes['1'], '{}/orionA_test_para_1vcomp.fits'.format(paraDir), 1)\n",
    "    UCube.save_model_fit(orion.pcubes['2'], '{}/orionA_test_para_2vcomp.fits'.format(paraDir), 2)"
   ]
  },
  {
   "cell_type": "code",
   "execution_count": 17,
   "metadata": {},
   "outputs": [
    {
     "name": "stdout",
     "output_type": "stream",
     "text": [
      "INFO: Left region selection unchanged.  xminpix, xmaxpix: 0,762 [pyspeckit.spectrum.interactive]\n"
     ]
    },
    {
     "name": "stderr",
     "output_type": "stream",
     "text": [
      "invalid value encountered in greater\n"
     ]
    },
    {
     "name": "stdout",
     "output_type": "stream",
     "text": [
      "INFO: Left region selection unchanged.  xminpix, xmaxpix: 0,762 [pyspeckit.spectrum.interactive]\n"
     ]
    }
   ],
   "source": [
    "orion.load_model_fit('{}/orionA_test_para_1vcomp.fits'.format(paraDir), 1)\n",
    "orion.load_model_fit('{}/orionA_test_para_2vcomp.fits'.format(paraDir), 2)"
   ]
  },
  {
   "cell_type": "code",
   "execution_count": 18,
   "metadata": {},
   "outputs": [
    {
     "data": {
      "text/plain": [
       "<matplotlib.image.AxesImage at 0x1c1caa4950>"
      ]
     },
     "execution_count": 18,
     "metadata": {},
     "output_type": "execute_result"
    },
    {
     "data": {
      "image/png": "[encoded data removed]",
      "text/plain": [
       "<Figure size 432x288 with 1 Axes>"
      ]
     },
     "metadata": {},
     "output_type": "display_data"
    }
   ],
   "source": [
    "mod1 = orion.pcubes['1'].get_modelcube()\n",
    "mod2 = orion.pcubes['2'].get_modelcube()\n",
    "plt.imshow(np.nansum(mod2, axis=0), origin='lower')"
   ]
  },
  {
   "cell_type": "markdown",
   "metadata": {},
   "source": [
    "Use the max residual snr mask instead!"
   ]
  },
  {
   "cell_type": "code",
   "execution_count": 19,
   "metadata": {},
   "outputs": [
    {
     "ename": "IndexError",
     "evalue": "boolean index did not match indexed array along dimension 1; dimension is 34 but corresponding boolean dimension is 17",
     "output_type": "error",
     "traceback": [
      "\u001b[0;31m---------------------------------------------------------------------------\u001b[0m",
      "\u001b[0;31mIndexError\u001b[0m                                Traceback (most recent call last)",
      "\u001b[0;32m<ipython-input-19-eaf8d0d2499d>\u001b[0m in \u001b[0;36m<module>\u001b[0;34m()\u001b[0m\n\u001b[1;32m      1\u001b[0m \u001b[0mmask\u001b[0m \u001b[0;34m=\u001b[0m \u001b[0mlnk21\u001b[0m \u001b[0;34m>\u001b[0m \u001b[0;36m5\u001b[0m\u001b[0;34m\u001b[0m\u001b[0m\n\u001b[1;32m      2\u001b[0m \u001b[0mmodbest\u001b[0m \u001b[0;34m=\u001b[0m \u001b[0mmod1\u001b[0m\u001b[0;34m.\u001b[0m\u001b[0mcopy\u001b[0m\u001b[0;34m(\u001b[0m\u001b[0;34m)\u001b[0m\u001b[0;34m\u001b[0m\u001b[0m\n\u001b[0;32m----> 3\u001b[0;31m \u001b[0mmodbest\u001b[0m\u001b[0;34m[\u001b[0m\u001b[0;34m:\u001b[0m\u001b[0;34m,\u001b[0m\u001b[0mmask\u001b[0m\u001b[0;34m]\u001b[0m \u001b[0;34m=\u001b[0m \u001b[0mmod2\u001b[0m\u001b[0;34m[\u001b[0m\u001b[0;34m:\u001b[0m\u001b[0;34m,\u001b[0m\u001b[0mmask\u001b[0m\u001b[0;34m]\u001b[0m\u001b[0;34m\u001b[0m\u001b[0m\n\u001b[0m",
      "\u001b[0;31mIndexError\u001b[0m: boolean index did not match indexed array along dimension 1; dimension is 34 but corresponding boolean dimension is 17"
     ]
    }
   ],
   "source": [
    "mask = lnk21 > 5\n",
    "modbest = mod1.copy()\n",
    "modbest[:,mask] = mod2[:,mask]"
   ]
  },
  {
   "cell_type": "markdown",
   "metadata": {},
   "source": [
    "Get the residual of the best model, and their corrosponding rms"
   ]
  },
  {
   "cell_type": "code",
   "execution_count": null,
   "metadata": {},
   "outputs": [],
   "source": [
    "modbest[np.isnan(modbest)] = 0\n",
    "best_res = orion.cube._data - modbest\n",
    "best_rms = UCube.get_rms(best_res)"
   ]
  },
  {
   "cell_type": "code",
   "execution_count": null,
   "metadata": {},
   "outputs": [],
   "source": [
    "import moment_guess as mmg\n",
    "reload(mmg)\n",
    "from spectral_cube import SpectralCube\n",
    "from astropy import units as u\n",
    "\n",
    "wdw_wth=4.0\n",
    "\n",
    "res_cube = SpectralCube(best_res, orion.cube.wcs)\n",
    "res_cube = res_cube.with_spectral_unit(u.km/u.s,velocity_convention='radio')\n",
    "res_main_hf = mmg.get_window_slab(res_cube, window_hwidth=wdw_wth, v_atpeak=np.nanmedian(orion.pcubes['1'].parcube[0]))\n",
    "\n",
    "res_main_hf_snr = np.nanmax(res_main_hf, axis=0)/best_rms\n",
    "\n",
    "plt.imshow(res_main_hf_snr, origin = 'lower')\n",
    "plt.contour(res_main_hf_snr, [3], colors='1')"
   ]
  },
  {
   "cell_type": "markdown",
   "metadata": {},
   "source": [
    "Maskout where residual is significant"
   ]
  },
  {
   "cell_type": "code",
   "execution_count": null,
   "metadata": {},
   "outputs": [],
   "source": [
    "mask_res = res_main_hf_snr > 5\n",
    "mask_res = dilation(mask_res)\n",
    "plt.imshow(mask_res, origin='lower')"
   ]
  },
  {
   "cell_type": "code",
   "execution_count": null,
   "metadata": {},
   "outputs": [],
   "source": [
    "res_main_hf = res_main_hf.with_spectral_unit(u.km/u.s,velocity_convention='radio')\n",
    "mom0 = res_main_hf.moment0()\n",
    "plt.imshow(mom0.value/best_rms, origin = 'lower')  "
   ]
  },
  {
   "cell_type": "code",
   "execution_count": null,
   "metadata": {},
   "outputs": [],
   "source": [
    "from spectral_cube import SpectralCube\n",
    "\n",
    "# make sure the cube_res variable does not point to a pre-existing spectral cube\n",
    "if 'cube_res' in globals():\n",
    "    del cube_res\n",
    "cube_res = SpectralCube(data=best_res, wcs=orion.pcubes['2'].wcs.copy(), header=orion.pcubes['2'].header.copy())\n",
    "cube_res_masked = cube_res.with_mask(~mask_res)"
   ]
  },
  {
   "cell_type": "code",
   "execution_count": null,
   "metadata": {},
   "outputs": [],
   "source": [
    "import convolve_tools as cnvtool\n",
    "reload(cnvtool)\n",
    "cube_res_cnv = cnvtool.convolve_sky_byfactor(cube_res_masked, factor=2, edgetrim_width=5, snrmasked=False, iterrefine=False)"
   ]
  },
  {
   "cell_type": "code",
   "execution_count": null,
   "metadata": {},
   "outputs": [],
   "source": [
    "cube_res_cnv = cube_res_cnv.with_spectral_unit(u.km/u.s,velocity_convention='radio')\n",
    "\n",
    "wdw_wth=3.0\n",
    "ncomp=1\n",
    "moms_res_cnv = mmg.window_moments(cube_res_cnv, window_hwidth=wdw_wth,\n",
    "                                  v_atpeak=np.nanmedian(orion.pcubes['1'].parcube[0]))\n",
    "gg = mmg.moment_guesses(moms_res_cnv[1], moms_res_cnv[2], ncomp, moment0=moms_res_cnv[0])"
   ]
  },
  {
   "cell_type": "code",
   "execution_count": null,
   "metadata": {},
   "outputs": [],
   "source": [
    "fig = plt.figure()\n",
    "ax0 = fig.add_subplot(131)\n",
    "ax0.imshow(moms_res_cnv[0], origin='lower')\n",
    "ax1 = fig.add_subplot(132)\n",
    "ax1.imshow(moms_res_cnv[1], origin='lower', vmin=6, vmax=13, cmap='Spectral')\n",
    "ax2 = fig.add_subplot(133)\n",
    "ax2.imshow(moms_res_cnv[2], origin='lower', vmin=0, vmax=3, cmap='magma')"
   ]
  },
  {
   "cell_type": "code",
   "execution_count": null,
   "metadata": {},
   "outputs": [],
   "source": [
    "plt.imshow(gg[0], origin='lower', vmin=6, vmax=13, cmap='Spectral')\n",
    "np.nanmax(gg[0])"
   ]
  },
  {
   "cell_type": "code",
   "execution_count": null,
   "metadata": {},
   "outputs": [],
   "source": [
    "orion_cnv_rez = UCube.UltraCube(cube=cube_res_cnv)\n",
    "orion_cnv_rez.fit_cube(ncomp=[1], snr_min=3, guesses=gg)\n"
   ]
  },
  {
   "cell_type": "markdown",
   "metadata": {},
   "source": [
    "plot the residual model"
   ]
  },
  {
   "cell_type": "code",
   "execution_count": null,
   "metadata": {},
   "outputs": [],
   "source": [
    "rez_mod_cnv_1 = orion_cnv_rez.pcubes['1'].get_modelcube()\n",
    "plt.imshow(np.nanmax(rez_mod_cnv_1, axis=0), origin='lower')"
   ]
  },
  {
   "cell_type": "code",
   "execution_count": null,
   "metadata": {},
   "outputs": [],
   "source": [
    "rez_par_cnv_1 = orion_cnv_rez.pcubes['1'].parcube"
   ]
  },
  {
   "cell_type": "code",
   "execution_count": null,
   "metadata": {},
   "outputs": [],
   "source": [
    "plt.imshow(orion_cnv_rez.get_AICc_likelihood(1,0), origin='lower')\n",
    "plt.contour(orion_cnv_rez.get_AICc_likelihood(1,0), [5], colors='1')"
   ]
  },
  {
   "cell_type": "code",
   "execution_count": null,
   "metadata": {},
   "outputs": [],
   "source": [
    "aic1v0_mask = orion_cnv_rez.get_AICc_likelihood(1,0) > 5\n",
    "aic1v0_mask_dil = dilation(aic1v0_mask)\n",
    "plt.imshow(aic1v0_mask_dil, origin='lower')"
   ]
  },
  {
   "cell_type": "code",
   "execution_count": null,
   "metadata": {},
   "outputs": [],
   "source": [
    "plt.imshow(rez_par_cnv_1[0]*aic1v0_mask, origin='lower', vmin=6, vmax=13, cmap='Spectral')\n",
    "print np.nanmax(rez_par_cnv_1[0]), np.nanmin(rez_par_cnv_1[0])"
   ]
  },
  {
   "cell_type": "code",
   "execution_count": null,
   "metadata": {},
   "outputs": [],
   "source": [
    "plt.imshow(rez_par_cnv_1[0], origin='lower')"
   ]
  },
  {
   "cell_type": "code",
   "execution_count": null,
   "metadata": {},
   "outputs": [],
   "source": [
    "ff_mask = cnvtool.regrid_mask(aic1v0_mask, hdr2D_cnv, hdr2D, tightBin=False)\n",
    "#ff_mask = cnvtool.regrid_mask(aic1v0_mask_dil, hdr2D_cnv, hdr2D, tightBin=False) \n",
    "#plt.imshow(ff_mask,origin='lower')\n",
    "funk = ff_mask.copy()\n",
    "funk = funk.astype(float)\n",
    "funk[funk == 0] = np.nan\n",
    "plt.imshow(guesses_final[0]*funk, origin='lower', vmin=6, vmax=13, cmap='Spectral')\n",
    "\n",
    "\n",
    "print np.nanmin(guesses_final[0]),np.nanmedian(guesses_final[0]), np.nanmax(guesses_final[0])"
   ]
  },
  {
   "cell_type": "code",
   "execution_count": null,
   "metadata": {},
   "outputs": [],
   "source": [
    "plt.imshow(guesses_final[0], origin='lower', vmin=6, vmax=13, cmap='Spectral')"
   ]
  },
  {
   "cell_type": "code",
   "execution_count": null,
   "metadata": {},
   "outputs": [],
   "source": [
    "plt.imshow(guesses_final[1], origin='lower', vmin=0, vmax=1, cmap='magma')"
   ]
  },
  {
   "cell_type": "code",
   "execution_count": null,
   "metadata": {},
   "outputs": [],
   "source": [
    "reload(gf)\n",
    "data_cnv = np.append(orion_cnv_rez.pcubes['1'].parcube, orion_cnv_rez.pcubes['1'].errcube, axis=0)\n",
    "preguess = data_cnv.copy()\n",
    "preguess[:,~aic1v0_mask] = np.nan\n",
    "#preguess[:,~aic1v0_mask_dil] = np.nan\n",
    "\n",
    "\n",
    "\n",
    "guesses_final = gf.guess_from_cnvpara(preguess, orion_cnv.cube.header, orion.cube.header, mask=aic1v0_mask_dil)\n",
    "show_para(guesses_final)"
   ]
  },
  {
   "cell_type": "code",
   "execution_count": null,
   "metadata": {},
   "outputs": [],
   "source": [
    "show_para(orion_cnv_rez.pcubes['1'].parcube)"
   ]
  },
  {
   "cell_type": "code",
   "execution_count": null,
   "metadata": {},
   "outputs": [],
   "source": [
    "np.nanmax(rez_par_cnv_1[0])"
   ]
  },
  {
   "cell_type": "code",
   "execution_count": null,
   "metadata": {},
   "outputs": [],
   "source": [
    "cube_res_cnv = cube_res_cnv.with_spectral_unit(u.km/u.s,velocity_convention='radio')\n",
    "plt.plot(cube_res_cnv.spectral_axis, np.nansum(cube_res_cnv._data, axis=(1,2)), c='0.7')\n",
    "plt.plot(cube_res_cnv.spectral_axis, np.nansum(orion.cube._data, axis=(1,2))/100, linewidth=3)\n",
    "plt.plot(cube_res_cnv.spectral_axis, np.nansum(modbest, axis=(1,2))/100)\n",
    "\n",
    "voff_wind = 4\n",
    "plt.xlim((7.8-voff_wind, 7.8+voff_wind))\n",
    "np.nanmedian(orion.pcubes['1'].parcube[0])"
   ]
  },
  {
   "cell_type": "markdown",
   "metadata": {},
   "source": [
    "A quick demonstration that moment estimate is not good to check the residual as well, compared to peak SNR of the residual."
   ]
  },
  {
   "cell_type": "code",
   "execution_count": null,
   "metadata": {},
   "outputs": [],
   "source": [
    "pp1=orion_cnv_rez.pcubes['1']\n",
    "pp1mod = pp1.get_modelcube()"
   ]
  },
  {
   "cell_type": "code",
   "execution_count": null,
   "metadata": {},
   "outputs": [],
   "source": [
    "#pp1.plotter()\n",
    "yyy = 8\n",
    "pp1.plot_spectrum(3,yyy)\n",
    "pp1.plot_fit(3,yyy)"
   ]
  },
  {
   "cell_type": "code",
   "execution_count": null,
   "metadata": {},
   "outputs": [],
   "source": [
    "pp1.plot_spectrum(7,15)\n",
    "pp1.plot_fit(7,15)"
   ]
  },
  {
   "cell_type": "code",
   "execution_count": null,
   "metadata": {},
   "outputs": [],
   "source": [
    "pp1.plot_spectrum(2,11)\n",
    "pp1.plot_fit(2,11)"
   ]
  },
  {
   "cell_type": "code",
   "execution_count": null,
   "metadata": {},
   "outputs": [],
   "source": [
    "#orion.pcubes['1'].parcube.shape\n",
    "fff_guesses = np.append(orion.pcubes['1'].parcube, guesses_final, axis=0)\n",
    "lnk21 = orion.get_AICc_likelihood(2, 1)\n",
    "fff_mask = lnk21<5\n",
    "fff_mask = dilation(fff_mask)\n",
    "plt.imshow(fff_mask, origin=\"lower\")"
   ]
  },
  {
   "cell_type": "code",
   "execution_count": null,
   "metadata": {},
   "outputs": [],
   "source": [
    "lnk10 = orion.get_AICc_likelihood(1, 0)\n",
    "fff_mask = np.logical_and(fff_mask, lnk10>5)\n",
    "plt.imshow(fff_mask, origin=\"lower\")"
   ]
  },
  {
   "cell_type": "code",
   "execution_count": null,
   "metadata": {},
   "outputs": [],
   "source": [
    "ffunk = fff_mask.astype(float)\n",
    "ffunk[~fff_mask] = np.nan\n",
    "show_para(fff_guesses*ffunk)\n"
   ]
  },
  {
   "cell_type": "markdown",
   "metadata": {},
   "source": [
    "Try fitting two components again (361.4 seconds)"
   ]
  },
  {
   "cell_type": "code",
   "execution_count": null,
   "metadata": {},
   "outputs": [],
   "source": [
    "if 'orion_new' in globals():\n",
    "    del orion_new\n",
    "\n",
    "orion_new = UCube.UltraCube(wpath)\n",
    "if False:\n",
    "    orion_new.fit_cube(ncomp=[2], maskmap=fff_mask, snr_min=3, guesses=fff_guesses)\n",
    "    UCube.save_model_fit(orion_new.pcubes['2'], '{}/orionA_test_para_2vcomp_wideRcvy.fits'.format(paraDir), 2)\n",
    "else:\n",
    "    orion_new.load_model_fit('{}/orionA_test_para_2vcomp_wideRcvy.fits'.format(paraDir), 2)"
   ]
  },
  {
   "cell_type": "code",
   "execution_count": null,
   "metadata": {},
   "outputs": [],
   "source": [
    "fig = plt.figure()\n",
    "ax0 = fig.add_subplot(131)\n",
    "ax0.imshow(np.nanmax(orion_new.pcubes['2'].get_modelcube(), axis=0), origin=\"lower\")\n",
    "ax1 = fig.add_subplot(132)\n",
    "ax1.imshow(np.nanmax(orion.pcubes['2'].get_modelcube(), axis=0), origin=\"lower\")\n",
    "\n",
    "#plt.imshow(np.nanmax(orion_new.pcubes['2'].get_modelcube(), axis=0), origin='lower')"
   ]
  },
  {
   "cell_type": "code",
   "execution_count": null,
   "metadata": {},
   "outputs": [],
   "source": [
    "lnk_NvsO = UCube.calc_AICc_likelihood(orion_new, 2, 2, ucube_B=orion)"
   ]
  },
  {
   "cell_type": "code",
   "execution_count": null,
   "metadata": {},
   "outputs": [],
   "source": [
    "plt.imshow(lnk_NvsO>0, origin='lower')\n",
    "#plt.imshow(lnk_NvsO, origin='lower', vmin=-5, vmax=5, cmap='Spectral')"
   ]
  },
  {
   "cell_type": "code",
   "execution_count": null,
   "metadata": {},
   "outputs": [],
   "source": [
    "if 'orion_final' in globals():\n",
    "    del orion_final\n",
    "orion_final = UCube.UltraCube(wpath)\n",
    "#orion_final.load_model_fit('{}/orionA_test_para_1vcomp.fits'.format(paraDir), 1)\n",
    "#orion_final.load_model_fit('{}/orionA_test_para_2vcomp.fits'.format(paraDir), 2)\n",
    "#orion_final.pcubes['1'] = orion.pcubes['1'].copy()\n",
    "#orion_final.pcubes['2'] = orion.pcubes['2'].copy()"
   ]
  },
  {
   "cell_type": "code",
   "execution_count": null,
   "metadata": {},
   "outputs": [],
   "source": [
    "pcube_final_2 = orion.pcubes['2'].copy('deep')"
   ]
  },
  {
   "cell_type": "code",
   "execution_count": null,
   "metadata": {},
   "outputs": [],
   "source": [
    "def replace_para(pcube, pcube_ref, mask):\n",
    "    pcube.parcube[:,mask] = pcube_ref.parcube[:,mask]\n",
    "    pcube.errcube[:,mask] = pcube_ref.errcube[:,mask]"
   ]
  },
  {
   "cell_type": "code",
   "execution_count": null,
   "metadata": {},
   "outputs": [],
   "source": [
    "#replace_para(orion_final.pcubes['2'], orion_new.pcubes['2'], lnk_NvsO>5)\n",
    "# mask over where one comp fit is more robust\n",
    "good_mask = np.logical_and(lnk_NvsO>0, lnk21<5)\n",
    "plt.imshow(good_mask, origin='lower')"
   ]
  },
  {
   "cell_type": "code",
   "execution_count": null,
   "metadata": {},
   "outputs": [],
   "source": [
    "replace_para(pcube_final_2, orion_new.pcubes['2'], good_mask)"
   ]
  },
  {
   "cell_type": "code",
   "execution_count": null,
   "metadata": {},
   "outputs": [],
   "source": [
    "UCube.save_model_fit(pcube_final_2, '{}/orionA_test_para_2vcomp_final.fits'.format(paraDir), 2)\n",
    "orion_final.load_model_fit('{}/orionA_test_para_1vcomp.fits'.format(paraDir), 1)\n",
    "orion_final.load_model_fit('{}/orionA_test_para_2vcomp_final.fits'.format(paraDir), 2)"
   ]
  },
  {
   "cell_type": "code",
   "execution_count": null,
   "metadata": {},
   "outputs": [],
   "source": [
    "#fffmod2 = orion_final.pcubes['2'].get_modelcube(update=True)"
   ]
  },
  {
   "cell_type": "code",
   "execution_count": null,
   "metadata": {},
   "outputs": [],
   "source": [
    "#plt.imshow(np.nanmax(fffmod2, axis=0), origin='lower')"
   ]
  },
  {
   "cell_type": "code",
   "execution_count": null,
   "metadata": {},
   "outputs": [],
   "source": [
    "lnk21_ff = orion_final.get_AICc_likelihood(2, 1)"
   ]
  },
  {
   "cell_type": "code",
   "execution_count": null,
   "metadata": {},
   "outputs": [],
   "source": [
    "plt.imshow(lnk21_ff, origin='lower')"
   ]
  },
  {
   "cell_type": "code",
   "execution_count": null,
   "metadata": {},
   "outputs": [],
   "source": [
    "fig = plt.figure()\n",
    "ax0 = fig.add_subplot(131)\n",
    "ax0.imshow(lnk21>5, origin=\"lower\")\n",
    "ax1 = fig.add_subplot(132)\n",
    "ax1.imshow(lnk21_ff>5, origin=\"lower\")\n",
    "ax2 = fig.add_subplot(133)\n",
    "ax2.imshow((lnk21_ff>5)*1.0 + (lnk21>5)*1.0, origin=\"lower\")"
   ]
  },
  {
   "cell_type": "code",
   "execution_count": null,
   "metadata": {},
   "outputs": [],
   "source": []
  },
  {
   "cell_type": "code",
   "execution_count": null,
   "metadata": {},
   "outputs": [],
   "source": []
  },
  {
   "cell_type": "code",
   "execution_count": null,
   "metadata": {},
   "outputs": [],
   "source": []
  }
 ],
 "metadata": {
  "kernelspec": {
   "display_name": "Python 2",
   "language": "python",
   "name": "python2"
  },
  "language_info": {
   "codemirror_mode": {
    "name": "ipython",
    "version": 2
   },
   "file_extension": ".py",
   "mimetype": "text/x-python",
   "name": "python",
   "nbconvert_exporter": "python",
   "pygments_lexer": "ipython2",
   "version": "2.7.15"
  }
 },
 "nbformat": 4,
 "nbformat_minor": 2
}
